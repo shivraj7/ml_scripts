{
  "nbformat": 4,
  "nbformat_minor": 0,
  "metadata": {
    "colab": {
      "provenance": [],
      "toc_visible": true,
      "authorship_tag": "ABX9TyMFNG6ly27ZAxk0gqMQ0F9l",
      "include_colab_link": true
    },
    "kernelspec": {
      "name": "python3",
      "display_name": "Python 3"
    },
    "language_info": {
      "name": "python"
    }
  },
  "cells": [
    {
      "cell_type": "markdown",
      "metadata": {
        "id": "view-in-github",
        "colab_type": "text"
      },
      "source": [
        "<a href=\"https://colab.research.google.com/github/shivraj7/ml_scripts/blob/main/Q_format.ipynb\" target=\"_parent\"><img src=\"https://colab.research.google.com/assets/colab-badge.svg\" alt=\"Open In Colab\"/></a>"
      ]
    },
    {
      "cell_type": "markdown",
      "source": [
        "# Q format (M.N)"
      ],
      "metadata": {
        "id": "ujdt8RANiBcL"
      }
    },
    {
      "cell_type": "markdown",
      "source": [
        " In M.N Q format, N represents fractional part and and M represents integer part."
      ],
      "metadata": {
        "id": "w-eOV2zqiN3K"
      }
    },
    {
      "cell_type": "markdown",
      "source": [
        "# Integer(M) part and fractional(N) part\n",
        "\n",
        " For unsigned, min value of integer part 0 and max value of integer part will be (2^M - 1), with step size 1/2^N\n",
        "\n",
        " For signed(1 bit reserved for sign), min value of integer part will be -2^(M-1) and max value will be 2^(M-1) - 1, , with step size 1/2^N\n",
        "\n",
        " For signed(no bit reserved for sign), min value of integer part will be -2^M and max value will be 2^M - 1, , with step size 2*(1/2^N)"
      ],
      "metadata": {
        "id": "hdKsJT4pLb3M"
      }
    },
    {
      "cell_type": "code",
      "source": [
        "import numpy as np\n",
        "integer_bits = 3\n",
        "fractional_bits = 4\n",
        "step_size = 2**(-fractional_bits)\n",
        "total_steps = 2**(fractional_bits + integer_bits)\n",
        "print(step_size)\n",
        "print(total_steps)"
      ],
      "metadata": {
        "id": "7BMhjh1ndY0S",
        "colab": {
          "base_uri": "https://localhost:8080/"
        },
        "outputId": "27c8286d-5fc3-4e4e-c961-541e9cf4a9ca"
      },
      "execution_count": 28,
      "outputs": [
        {
          "output_type": "stream",
          "name": "stdout",
          "text": [
            "0.0625\n",
            "128\n"
          ]
        }
      ]
    },
    {
      "cell_type": "markdown",
      "source": [
        "*   Unsgined data, formula for float value range, [0, (2^M-1) + (2^N-1) * step_size], here step size is 1/2^N.\n",
        "\n",
        "  For example :-\n",
        "\n",
        "  Q format 3.4, here 4 bits are for fractional and 3 bits are for interger. If we consider Q format as unsigned then qformat 3.4 will represent floatfrom value ranges inbetween [0,7.9375]"
      ],
      "metadata": {
        "id": "JjSXJlSldgpN"
      }
    },
    {
      "cell_type": "code",
      "execution_count": 25,
      "metadata": {
        "colab": {
          "base_uri": "https://localhost:8080/"
        },
        "id": "0Am5yacFrNCy",
        "outputId": "386b62e5-6d5d-41df-b64f-f5a84f042a2a"
      },
      "outputs": [
        {
          "output_type": "stream",
          "name": "stdout",
          "text": [
            "Integer bits:-  3\n",
            "fractional_bits:-  4\n",
            "Unsigned floating values:- \n",
            "[0.     0.0625 0.125  0.1875 0.25   0.3125 0.375  0.4375 0.5    0.5625\n",
            " 0.625  0.6875 0.75   0.8125 0.875  0.9375 1.     1.0625 1.125  1.1875\n",
            " 1.25   1.3125 1.375  1.4375 1.5    1.5625 1.625  1.6875 1.75   1.8125\n",
            " 1.875  1.9375 2.     2.0625 2.125  2.1875 2.25   2.3125 2.375  2.4375\n",
            " 2.5    2.5625 2.625  2.6875 2.75   2.8125 2.875  2.9375 3.     3.0625\n",
            " 3.125  3.1875 3.25   3.3125 3.375  3.4375 3.5    3.5625 3.625  3.6875\n",
            " 3.75   3.8125 3.875  3.9375 4.     4.0625 4.125  4.1875 4.25   4.3125\n",
            " 4.375  4.4375 4.5    4.5625 4.625  4.6875 4.75   4.8125 4.875  4.9375\n",
            " 5.     5.0625 5.125  5.1875 5.25   5.3125 5.375  5.4375 5.5    5.5625\n",
            " 5.625  5.6875 5.75   5.8125 5.875  5.9375 6.     6.0625 6.125  6.1875\n",
            " 6.25   6.3125 6.375  6.4375 6.5    6.5625 6.625  6.6875 6.75   6.8125\n",
            " 6.875  6.9375 7.     7.0625 7.125  7.1875 7.25   7.3125 7.375  7.4375\n",
            " 7.5    7.5625 7.625  7.6875 7.75   7.8125 7.875  7.9375]\n",
            "Total array size  128\n",
            "step_size 0.0625\n"
          ]
        }
      ],
      "source": [
        "#unsigned data\n",
        "unsigned_min_range = 0\n",
        "unsigned_max_range = 2**(integer_bits) - step_size\n",
        "inputs = np.array(np.linspace(unsigned_min_range, unsigned_max_range, total_steps))\n",
        "print(\"Integer bits:- \", integer_bits)\n",
        "print(\"fractional_bits:- \", fractional_bits)\n",
        "print(\"Unsigned floating values:- \")\n",
        "print(inputs)\n",
        "print(\"Total array size \", np.size(inputs))\n",
        "print(\"step_size\", abs(inputs[1]-inputs[0]))\n"
      ]
    },
    {
      "cell_type": "markdown",
      "source": [
        "\n",
        "*   Signed data(1 bit reserved for sign), formula for float value range,\n",
        "[-2^(M-1), (2^(M-1)-1) + (2^N-1) * step_size], here step size is 1/2^N.\n",
        "\n",
        "  For example :-\n",
        "\n",
        "  Q format 3.4, here 4 bits are for fractional and 2 bits are for interger and 1 bit is for sign. If we consider Q format as signed, then qformat 3.4 will represent float value ranges inbetween [-4,3.9375]\n",
        "  "
      ],
      "metadata": {
        "id": "OR1VKBhYdmYL"
      }
    },
    {
      "cell_type": "code",
      "source": [
        "#signed data\n",
        "signed_min_range = -2**(integer_bits-1)\n",
        "signed_max_range = 2**(integer_bits-1) - step_size\n",
        "inputs = np.array(np.linspace(signed_min_range, signed_max_range, total_steps))\n",
        "print(\"Integer bits:- \", integer_bits)\n",
        "print(\"fractional_bits:- \", fractional_bits)\n",
        "print(\"Signed floating values:- \")\n",
        "print(inputs)\n",
        "print(\"Total array size \", np.size(inputs))\n",
        "print(\"step_size\", abs(inputs[1]-inputs[0]))"
      ],
      "metadata": {
        "colab": {
          "base_uri": "https://localhost:8080/"
        },
        "id": "wzovPYK1dpqa",
        "outputId": "4b7869f9-dbd6-4816-d3ec-20281731bb8a"
      },
      "execution_count": 26,
      "outputs": [
        {
          "output_type": "stream",
          "name": "stdout",
          "text": [
            "Integer bits:-  3\n",
            "fractional_bits:-  4\n",
            "Signed floating values:- \n",
            "[-4.     -3.9375 -3.875  -3.8125 -3.75   -3.6875 -3.625  -3.5625 -3.5\n",
            " -3.4375 -3.375  -3.3125 -3.25   -3.1875 -3.125  -3.0625 -3.     -2.9375\n",
            " -2.875  -2.8125 -2.75   -2.6875 -2.625  -2.5625 -2.5    -2.4375 -2.375\n",
            " -2.3125 -2.25   -2.1875 -2.125  -2.0625 -2.     -1.9375 -1.875  -1.8125\n",
            " -1.75   -1.6875 -1.625  -1.5625 -1.5    -1.4375 -1.375  -1.3125 -1.25\n",
            " -1.1875 -1.125  -1.0625 -1.     -0.9375 -0.875  -0.8125 -0.75   -0.6875\n",
            " -0.625  -0.5625 -0.5    -0.4375 -0.375  -0.3125 -0.25   -0.1875 -0.125\n",
            " -0.0625  0.      0.0625  0.125   0.1875  0.25    0.3125  0.375   0.4375\n",
            "  0.5     0.5625  0.625   0.6875  0.75    0.8125  0.875   0.9375  1.\n",
            "  1.0625  1.125   1.1875  1.25    1.3125  1.375   1.4375  1.5     1.5625\n",
            "  1.625   1.6875  1.75    1.8125  1.875   1.9375  2.      2.0625  2.125\n",
            "  2.1875  2.25    2.3125  2.375   2.4375  2.5     2.5625  2.625   2.6875\n",
            "  2.75    2.8125  2.875   2.9375  3.      3.0625  3.125   3.1875  3.25\n",
            "  3.3125  3.375   3.4375  3.5     3.5625  3.625   3.6875  3.75    3.8125\n",
            "  3.875   3.9375]\n",
            "Total array size  128\n",
            "step_size 0.0625\n"
          ]
        }
      ]
    },
    {
      "cell_type": "markdown",
      "source": [
        "*   Signed data (no bit reserved for sign), formula for float value range,\n",
        "[-2^(M), (2^(M)-1) + (2^N-1) * step_size], here step size is 2*(1/2^N), which is double step size where 1 bit is reserved for sign.\n",
        "\n",
        "  For example :-\n",
        "\n",
        "  Q format 3.4, here 4 bits are for fractional and 3 bits are for interger. If we consider Q format as signed, then qformat 3.4 will represent float value ranges inbetween [-8,7.9375]"
      ],
      "metadata": {
        "id": "8lacAJ3YbX8o"
      }
    },
    {
      "cell_type": "code",
      "source": [
        "#signed data\n",
        "signed_min_range = -2**(integer_bits)\n",
        "signed_max_range = 2**(integer_bits) - step_size\n",
        "inputs = np.array(np.linspace(signed_min_range, signed_max_range, total_steps))\n",
        "print(\"Integer bits:- \", integer_bits)\n",
        "print(\"fractional_bits:- \", fractional_bits)\n",
        "print(\"Signed floating values:- \")\n",
        "print(inputs)\n",
        "print(\"Total array size \", np.size(inputs))\n",
        "print(\"step_size\", abs(inputs[1]-inputs[0]))"
      ],
      "metadata": {
        "colab": {
          "base_uri": "https://localhost:8080/"
        },
        "id": "XEo1GtFkX-1p",
        "outputId": "16c67acb-4ae3-4539-c479-629696d7fc25"
      },
      "execution_count": 27,
      "outputs": [
        {
          "output_type": "stream",
          "name": "stdout",
          "text": [
            "Integer bits:-  3\n",
            "fractional_bits:-  4\n",
            "Signed floating values:- \n",
            "[-8.         -7.87450787 -7.74901575 -7.62352362 -7.4980315  -7.37253937\n",
            " -7.24704724 -7.12155512 -6.99606299 -6.87057087 -6.74507874 -6.61958661\n",
            " -6.49409449 -6.36860236 -6.24311024 -6.11761811 -5.99212598 -5.86663386\n",
            " -5.74114173 -5.61564961 -5.49015748 -5.36466535 -5.23917323 -5.1136811\n",
            " -4.98818898 -4.86269685 -4.73720472 -4.6117126  -4.48622047 -4.36072835\n",
            " -4.23523622 -4.10974409 -3.98425197 -3.85875984 -3.73326772 -3.60777559\n",
            " -3.48228346 -3.35679134 -3.23129921 -3.10580709 -2.98031496 -2.85482283\n",
            " -2.72933071 -2.60383858 -2.47834646 -2.35285433 -2.2273622  -2.10187008\n",
            " -1.97637795 -1.85088583 -1.7253937  -1.59990157 -1.47440945 -1.34891732\n",
            " -1.2234252  -1.09793307 -0.97244094 -0.84694882 -0.72145669 -0.59596457\n",
            " -0.47047244 -0.34498031 -0.21948819 -0.09399606  0.03149606  0.15698819\n",
            "  0.28248031  0.40797244  0.53346457  0.65895669  0.78444882  0.90994094\n",
            "  1.03543307  1.1609252   1.28641732  1.41190945  1.53740157  1.6628937\n",
            "  1.78838583  1.91387795  2.03937008  2.1648622   2.29035433  2.41584646\n",
            "  2.54133858  2.66683071  2.79232283  2.91781496  3.04330709  3.16879921\n",
            "  3.29429134  3.41978346  3.54527559  3.67076772  3.79625984  3.92175197\n",
            "  4.04724409  4.17273622  4.29822835  4.42372047  4.5492126   4.67470472\n",
            "  4.80019685  4.92568898  5.0511811   5.17667323  5.30216535  5.42765748\n",
            "  5.55314961  5.67864173  5.80413386  5.92962598  6.05511811  6.18061024\n",
            "  6.30610236  6.43159449  6.55708661  6.68257874  6.80807087  6.93356299\n",
            "  7.05905512  7.18454724  7.31003937  7.4355315   7.56102362  7.68651575\n",
            "  7.81200787  7.9375    ]\n",
            "Total array size  128\n",
            "step_size 0.12549212598425186\n"
          ]
        }
      ]
    }
  ]
}